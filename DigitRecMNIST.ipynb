{
 "cells": [
  {
   "cell_type": "code",
   "execution_count": 35,
   "metadata": {},
   "outputs": [],
   "source": [
    "import numpy as np\n",
    "import pandas as pd\n",
    "import matplotlib.pyplot as plt"
   ]
  },
  {
   "cell_type": "code",
   "execution_count": 110,
   "metadata": {},
   "outputs": [],
   "source": [
    "from keras.datasets import mnist\n",
    "from keras.models import Sequential\n",
    "from keras.layers import Dense, Dropout, Flatten\n",
    "from keras.layers import Conv2DTranspose, MaxPooling2D\n",
    "from keras.utils import np_utils"
   ]
  },
  {
   "cell_type": "code",
   "execution_count": 111,
   "metadata": {},
   "outputs": [],
   "source": [
    "(X_train, y_train), (X_test, y_test) = mnist.load_data()"
   ]
  },
  {
   "cell_type": "code",
   "execution_count": 112,
   "metadata": {},
   "outputs": [
    {
     "data": {
      "text/plain": [
       "<matplotlib.image.AxesImage at 0x7f4de8e2e290>"
      ]
     },
     "execution_count": 112,
     "metadata": {},
     "output_type": "execute_result"
    },
    {
     "data": {
      "image/png": "[encoded data removed]",
      "text/plain": [
       "<Figure size 432x288 with 6 Axes>"
      ]
     },
     "metadata": {
      "needs_background": "light"
     },
     "output_type": "display_data"
    }
   ],
   "source": [
    "plt.subplot(331)\n",
    "plt.imshow(X_train[0])\n",
    "plt.subplot(332)\n",
    "plt.imshow(X_train[2])\n",
    "plt.subplot(333)\n",
    "plt.imshow(X_test[0])\n",
    "plt.subplot(334)\n",
    "plt.imshow(X_test[2])\n",
    "plt.subplot(335)\n",
    "plt.imshow(X_train[20])\n",
    "plt.subplot(336)\n",
    "plt.imshow(X_test[20])"
   ]
  },
  {
   "cell_type": "code",
   "execution_count": 113,
   "metadata": {},
   "outputs": [],
   "source": [
    "seed = 7\n",
    "np.random.seed(seed)"
   ]
  },
  {
   "cell_type": "code",
   "execution_count": 114,
   "metadata": {},
   "outputs": [],
   "source": [
    "X_train = X_train.reshape(X_train.shape[0], 1, 28, 28).astype('float32')\n",
    "X_test = X_test.reshape(X_test.shape[0], 1, 28, 28).astype('float32')"
   ]
  },
  {
   "cell_type": "code",
   "execution_count": 115,
   "metadata": {},
   "outputs": [],
   "source": [
    "X_train = X_train/255\n",
    "X_test = X_test/255"
   ]
  },
  {
   "cell_type": "code",
   "execution_count": 116,
   "metadata": {},
   "outputs": [],
   "source": [
    "y_train = np_utils.to_categorical(y_train)\n",
    "y_test = np_utils.to_categorical(y_test)"
   ]
  },
  {
   "cell_type": "code",
   "execution_count": 117,
   "metadata": {},
   "outputs": [],
   "source": [
    "num_classes = y_test.shape[1]"
   ]
  },
  {
   "cell_type": "code",
   "execution_count": 118,
   "metadata": {},
   "outputs": [],
   "source": [
    "def base_model():\n",
    "    model = Sequential()\n",
    "    model.add(Conv2DTranspose(32, (5, 5), input_shape=(1, 28, 28), activation='relu', data_format='channels_first'))\n",
    "    model.add(MaxPooling2D(pool_size=(2, 2)))\n",
    "    model.add(Dropout(0.2))\n",
    "    model.add(Flatten())\n",
    "    model.add(Dense(128, activation='relu'))\n",
    "    model.add(Dense(num_classes, activation='softmax'))\n",
    "    \n",
    "    return model"
   ]
  },
  {
   "cell_type": "code",
   "execution_count": 119,
   "metadata": {},
   "outputs": [],
   "source": [
    "model = base_model() \n",
    "model.compile(loss='categorical_crossentropy', optimizer='adam', metrics=['accuracy'])"
   ]
  },
  {
   "cell_type": "code",
   "execution_count": 121,
   "metadata": {
    "scrolled": true
   },
   "outputs": [
    {
     "name": "stdout",
     "output_type": "stream",
     "text": [
      "Train on 60000 samples, validate on 10000 samples\n",
      "Epoch 1/10\n",
      "60000/60000 [==============================] - 295s 5ms/step - loss: 0.0357 - acc: 0.9889 - val_loss: 0.0373 - val_acc: 0.9868\n",
      "Epoch 2/10\n",
      "60000/60000 [==============================] - 256s 4ms/step - loss: 0.0287 - acc: 0.9907 - val_loss: 0.0327 - val_acc: 0.9883\n",
      "Epoch 3/10\n",
      "60000/60000 [==============================] - 330s 6ms/step - loss: 0.0236 - acc: 0.9928 - val_loss: 0.0322 - val_acc: 0.9894\n",
      "Epoch 4/10\n",
      "60000/60000 [==============================] - 300s 5ms/step - loss: 0.0201 - acc: 0.9937 - val_loss: 0.0388 - val_acc: 0.9880\n",
      "Epoch 5/10\n",
      "60000/60000 [==============================] - 299s 5ms/step - loss: 0.0172 - acc: 0.9941 - val_loss: 0.0326 - val_acc: 0.9895\n",
      "Epoch 6/10\n",
      "60000/60000 [==============================] - 325s 5ms/step - loss: 0.0137 - acc: 0.9952 - val_loss: 0.0283 - val_acc: 0.9904\n",
      "Epoch 7/10\n",
      "60000/60000 [==============================] - 315s 5ms/step - loss: 0.0118 - acc: 0.9965 - val_loss: 0.0344 - val_acc: 0.9888\n",
      "Epoch 8/10\n",
      "60000/60000 [==============================] - 319s 5ms/step - loss: 0.0114 - acc: 0.9962 - val_loss: 0.0282 - val_acc: 0.9908\n",
      "Epoch 9/10\n",
      "60000/60000 [==============================] - 387s 6ms/step - loss: 0.0106 - acc: 0.9966 - val_loss: 0.0373 - val_acc: 0.9891\n",
      "Epoch 10/10\n",
      "60000/60000 [==============================] - 450s 8ms/step - loss: 0.0083 - acc: 0.9974 - val_loss: 0.0337 - val_acc: 0.9890\n"
     ]
    }
   ],
   "source": [
    "history = model.fit(X_train, y_train, validation_data=(X_test, y_test), epochs=10, batch_size=200, verbose=1)"
   ]
  },
  {
   "cell_type": "code",
   "execution_count": null,
   "metadata": {},
   "outputs": [],
   "source": []
  }
 ],
 "metadata": {
  "kernelspec": {
   "display_name": "Python 3",
   "language": "python",
   "name": "python3"
  },
  "language_info": {
   "codemirror_mode": {
    "name": "ipython",
    "version": 2
   },
   "file_extension": ".py",
   "mimetype": "text/x-python",
   "name": "python",
   "nbconvert_exporter": "python",
   "pygments_lexer": "ipython2",
   "version": "2.7.12"
  }
 },
 "nbformat": 4,
 "nbformat_minor": 2
}
